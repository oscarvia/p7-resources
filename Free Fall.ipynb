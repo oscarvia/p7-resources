{
 "cells": [
  {
   "cell_type": "markdown",
   "metadata": {},
   "source": [
    "# Free Fall Introduction"
   ]
  },
  {
   "cell_type": "markdown",
   "metadata": {},
   "source": [
    "A free falling object is an object that is falling under the sole influence of gravity.\n",
    "Any object that is being acted upon only by the force of gravity is said to be in a state of free fall.\n"
   ]
  },
  {
   "cell_type": "markdown",
   "metadata": {},
   "source": [
    "## Acceleration of an Object in Free Fall"
   ]
  },
  {
   "cell_type": "markdown",
   "metadata": {},
   "source": [
    " A free-falling object has an acceleration of $-9.8 m/s^2$. This numerical value for the acceleration of a free-falling object is known as the acceleration of gravity. \n",
    " <img src=\"../img/tennisandorangeball.jpg\" width=600/> "
   ]
  },
  {
   "cell_type": "markdown",
   "metadata": {
    "collapsed": true
   },
   "source": [
    "## Free Fall Equations"
   ]
  },
  {
   "cell_type": "markdown",
   "metadata": {},
   "source": [
    "In physics you can use kinematic equations to find velocity, time, displacement, etc. of an object in free fall. \n",
    "These are the following equations that are used:\n",
    "$V_f = V_i + a\\Delta t$\n",
    "\n",
    "$\\Delta x = V_it + 1/2a\\Delta t^2$\n",
    "\n",
    "$V_f^2 = V_i^2 + 2a\\Delta x$\n",
    "\n",
    "$\\Delta x = 1/2(V_i + V_f)\\Delta t$"
   ]
  },
  {
   "cell_type": "markdown",
   "metadata": {},
   "source": [
    "## Free Fall Example Problem :\n",
    "\n",
    " <img src=\"../img/basketballdrop.jpg\" width=500/>\n",
    " \n",
    " A man drops a basketball down into a dam from 100 meters above. With what velocity does the basketball land?\n",
    " \n",
    " Givens:\n",
    " \n",
    " a = $-9.8m/s^2$\n",
    " \n",
    " $\\Delta y = -100m$\n",
    " \n",
    " $V_i = 0m/s$\n",
    " \n",
    " $V_f = ?$\n",
    " \n",
    " \n",
    "Solution:\n",
    "\n",
    "In this problem to find the final velocity, use the following formula : $V_f^2 = V_i^2 + 2a\\Delta y$\n",
    "\n",
    "\n",
    "$V_f^2 = V_i^2 + 2a\\Delta y$\n",
    "\n",
    "$V_f^2 = (0m/s)^2 + 2(-9.8m/s^2)(-100m)$\n",
    "\n",
    "$V_f^2 = 0 + (- 19.6)(-100)$\n",
    "\n",
    "$V_f^2 = 0 + 1960$\n",
    "\n",
    "$\\sqrt{V_f^2} = \\sqrt{1960}$\n",
    "\n",
    "$V_f = 44.27m/s$\n",
    "\n",
    "\n",
    "\n",
    "\n",
    "\n",
    " \n",
    " "
   ]
  },
  {
   "cell_type": "markdown",
   "metadata": {},
   "source": [
    "## Sources :\n",
    "\n",
    "http://www.physicsclassroom.com/class/1Dkin/u1l5a\n",
    "\n",
    "http://motionfreefall.blogspot.com/p/kinematic-equations-for-free-fall.html\n"
   ]
  }
 ],
 "metadata": {
  "kernelspec": {
   "display_name": "Python 3",
   "language": "python",
   "name": "python3"
  },
  "language_info": {
   "codemirror_mode": {
    "name": "ipython",
    "version": 3
   },
   "file_extension": ".py",
   "mimetype": "text/x-python",
   "name": "python",
   "nbconvert_exporter": "python",
   "pygments_lexer": "ipython3",
   "version": "3.4.4"
  }
 },
 "nbformat": 4,
 "nbformat_minor": 0
}
